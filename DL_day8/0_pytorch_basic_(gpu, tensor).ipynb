{
  "cells": [
    {
      "cell_type": "markdown",
      "metadata": {
        "id": "5vz9DB2EOiHI"
      },
      "source": [
        "## PyTorch basics"
      ]
    },
    {
      "cell_type": "markdown",
      "metadata": {
        "id": "kq-ydtt3J2O8"
      },
      "source": [
        "\n",
        "\n",
        "## CPU, GPU"
      ]
    },
    {
      "cell_type": "code",
      "execution_count": 1,
      "metadata": {
        "colab": {
          "base_uri": "https://localhost:8080/"
        },
        "id": "ptnwiKs2IR7j",
        "outputId": "cd667dcc-ef54-42e6-b44d-8a606f2c4b38"
      },
      "outputs": [
        {
          "output_type": "stream",
          "name": "stdout",
          "text": [
            "Ubuntu 22.04.4 LTS\n"
          ]
        }
      ],
      "source": [
        "# Get OS info\n",
        "!cat /etc/issue.net"
      ]
    },
    {
      "cell_type": "code",
      "execution_count": 2,
      "metadata": {
        "colab": {
          "base_uri": "https://localhost:8080/"
        },
        "id": "SQUwJkhlISDK",
        "outputId": "96b01b66-e771-4ce2-d28a-afcfdaff24ae"
      },
      "outputs": [
        {
          "output_type": "stream",
          "name": "stdout",
          "text": [
            "processor\t: 0\n",
            "model name\t: Intel(R) Xeon(R) CPU @ 2.20GHz\n",
            "cpu cores\t: 1\n",
            "processor\t: 1\n",
            "model name\t: Intel(R) Xeon(R) CPU @ 2.20GHz\n",
            "cpu cores\t: 1\n"
          ]
        }
      ],
      "source": [
        "# Get CPU info\n",
        "!cat /proc/cpuinfo | grep 'processor\\|model name\\|cpu cores'"
      ]
    },
    {
      "cell_type": "code",
      "execution_count": 3,
      "metadata": {
        "colab": {
          "base_uri": "https://localhost:8080/"
        },
        "id": "4d0S2KF2BPFB",
        "outputId": "c6c5b9c9-246f-4ada-df60-e3c107e5da1d"
      },
      "outputs": [
        {
          "output_type": "stream",
          "name": "stdout",
          "text": [
            "Thu Mar 13 06:55:09 2025       \n",
            "+-----------------------------------------------------------------------------------------+\n",
            "| NVIDIA-SMI 550.54.15              Driver Version: 550.54.15      CUDA Version: 12.4     |\n",
            "|-----------------------------------------+------------------------+----------------------+\n",
            "| GPU  Name                 Persistence-M | Bus-Id          Disp.A | Volatile Uncorr. ECC |\n",
            "| Fan  Temp   Perf          Pwr:Usage/Cap |           Memory-Usage | GPU-Util  Compute M. |\n",
            "|                                         |                        |               MIG M. |\n",
            "|=========================================+========================+======================|\n",
            "|   0  Tesla T4                       Off |   00000000:00:04.0 Off |                    0 |\n",
            "| N/A   51C    P8              9W /   70W |       0MiB /  15360MiB |      0%      Default |\n",
            "|                                         |                        |                  N/A |\n",
            "+-----------------------------------------+------------------------+----------------------+\n",
            "                                                                                         \n",
            "+-----------------------------------------------------------------------------------------+\n",
            "| Processes:                                                                              |\n",
            "|  GPU   GI   CI        PID   Type   Process name                              GPU Memory |\n",
            "|        ID   ID                                                               Usage      |\n",
            "|=========================================================================================|\n",
            "|  No running processes found                                                             |\n",
            "+-----------------------------------------------------------------------------------------+\n"
          ]
        }
      ],
      "source": [
        "# Get GPU info\n",
        "!nvidia-smi"
      ]
    },
    {
      "cell_type": "markdown",
      "metadata": {
        "id": "1DB9x4zPB7WX"
      },
      "source": [
        "## Pytorch, Tensor"
      ]
    },
    {
      "cell_type": "code",
      "execution_count": 4,
      "metadata": {
        "id": "glkIQ-iYAwUo"
      },
      "outputs": [],
      "source": [
        "import torch"
      ]
    },
    {
      "cell_type": "code",
      "execution_count": 5,
      "metadata": {
        "colab": {
          "base_uri": "https://localhost:8080/",
          "height": 35
        },
        "id": "pdmQ3HluA3TA",
        "outputId": "d5f9097d-e492-4fbe-be49-8e66702e404d"
      },
      "outputs": [
        {
          "output_type": "execute_result",
          "data": {
            "text/plain": [
              "'2.5.1+cu124'"
            ],
            "application/vnd.google.colaboratory.intrinsic+json": {
              "type": "string"
            }
          },
          "metadata": {},
          "execution_count": 5
        }
      ],
      "source": [
        "torch.__version__"
      ]
    },
    {
      "cell_type": "code",
      "execution_count": 6,
      "metadata": {
        "colab": {
          "base_uri": "https://localhost:8080/"
        },
        "id": "ySQbwRZCIvJx",
        "outputId": "36241dbb-1de0-458d-c6fc-543bca25ae39"
      },
      "outputs": [
        {
          "output_type": "stream",
          "name": "stdout",
          "text": [
            "Name: torch\n",
            "Version: 2.5.1+cu124\n",
            "Summary: Tensors and Dynamic neural networks in Python with strong GPU acceleration\n",
            "Home-page: https://pytorch.org/\n",
            "Author: PyTorch Team\n",
            "Author-email: packages@pytorch.org\n",
            "License: BSD-3-Clause\n",
            "Location: /usr/local/lib/python3.11/dist-packages\n",
            "Requires: filelock, fsspec, jinja2, networkx, nvidia-cublas-cu12, nvidia-cuda-cupti-cu12, nvidia-cuda-nvrtc-cu12, nvidia-cuda-runtime-cu12, nvidia-cudnn-cu12, nvidia-cufft-cu12, nvidia-curand-cu12, nvidia-cusolver-cu12, nvidia-cusparse-cu12, nvidia-nccl-cu12, nvidia-nvjitlink-cu12, nvidia-nvtx-cu12, sympy, triton, typing-extensions\n",
            "Required-by: accelerate, fastai, peft, sentence-transformers, timm, torchaudio, torchvision\n"
          ]
        }
      ],
      "source": [
        "!pip show torch"
      ]
    },
    {
      "cell_type": "markdown",
      "metadata": {
        "id": "c0fLiAjYl4YJ"
      },
      "source": [
        "## 1.1 Tensor Basic"
      ]
    },
    {
      "cell_type": "code",
      "execution_count": 7,
      "metadata": {
        "colab": {
          "base_uri": "https://localhost:8080/"
        },
        "id": "6H-778tOl4YJ",
        "outputId": "d9aec4a7-62b9-4021-bc82-d1f278b4bc60"
      },
      "outputs": [
        {
          "output_type": "stream",
          "name": "stdout",
          "text": [
            "tensor([[0., 0., 0.],\n",
            "        [0., 0., 0.]])\n"
          ]
        }
      ],
      "source": [
        "#Tensor의 기초적 선언\n",
        "#torch.FloatTensor와 같음\n",
        "# x = torch.Tensor(행, 열)\n",
        "x = torch.Tensor(2, 3)\n",
        "print(x)"
      ]
    },
    {
      "cell_type": "code",
      "execution_count": 8,
      "metadata": {
        "colab": {
          "base_uri": "https://localhost:8080/"
        },
        "id": "zj-gU04Dl4YJ",
        "outputId": "266c34a7-78a4-43c3-9f46-b5bfe85b6ed6"
      },
      "outputs": [
        {
          "output_type": "stream",
          "name": "stdout",
          "text": [
            "Tensor Type :  <class 'torch.Tensor'>\n",
            "Tensor Type :  torch.FloatTensor\n",
            "Tensor Size :  torch.Size([2, 3])\n"
          ]
        }
      ],
      "source": [
        "#Tesnor의 정보 확인\n",
        "print(\"Tensor Type : \", type(x))\n",
        "print(\"Tensor Type : \", x.type())\n",
        "print(\"Tensor Size : \", x.size()) # x.shape"
      ]
    },
    {
      "cell_type": "markdown",
      "metadata": {
        "id": "AMDOUMt6l4YJ"
      },
      "source": [
        "## 1.2 Tensor with characteristics"
      ]
    },
    {
      "cell_type": "code",
      "execution_count": 9,
      "metadata": {
        "colab": {
          "base_uri": "https://localhost:8080/"
        },
        "id": "Vg4dpRXml4YK",
        "outputId": "4fe0ca0c-82df-419d-a2f4-816fee4ea54b"
      },
      "outputs": [
        {
          "output_type": "stream",
          "name": "stdout",
          "text": [
            "tensor([[0., 0., 0.],\n",
            "        [0., 0., 0.]])\n",
            "Tensor Type :  torch.FloatTensor\n",
            "Tensor Size :  torch.Size([2, 3])\n"
          ]
        }
      ],
      "source": [
        "#0으로 채워진 Tensor 선언\n",
        "x = torch.zeros(2, 3)\n",
        "print(x)\n",
        "print(\"Tensor Type : \", x.type())\n",
        "print(\"Tensor Size : \", x.size())"
      ]
    },
    {
      "cell_type": "code",
      "execution_count": 10,
      "metadata": {
        "colab": {
          "base_uri": "https://localhost:8080/"
        },
        "id": "9emB0vP4l4YK",
        "outputId": "091cf3d1-d8aa-4b2f-fa62-004c162e52ff"
      },
      "outputs": [
        {
          "output_type": "stream",
          "name": "stdout",
          "text": [
            "tensor([[0, 0, 0],\n",
            "        [0, 0, 0]], dtype=torch.int32)\n",
            "Tensor Type :  torch.IntTensor\n",
            "Tensor Size :  torch.Size([2, 3])\n"
          ]
        }
      ],
      "source": [
        "x = torch.zeros(2,3, dtype=torch.int32)\n",
        "print(x)\n",
        "print(\"Tensor Type : \", x.type())\n",
        "print(\"Tensor Size : \", x.size())"
      ]
    },
    {
      "cell_type": "code",
      "execution_count": 11,
      "metadata": {
        "colab": {
          "base_uri": "https://localhost:8080/"
        },
        "id": "p7lE7nU_l4YK",
        "outputId": "826825cd-3c1f-4336-cc17-a0e66a9d83b5"
      },
      "outputs": [
        {
          "output_type": "stream",
          "name": "stdout",
          "text": [
            "tensor([[1., 1., 1.],\n",
            "        [1., 1., 1.]])\n",
            "Tensor Type :  torch.FloatTensor\n",
            "Tensor Size :  torch.Size([2, 3])\n"
          ]
        }
      ],
      "source": [
        "#1로 채워진 Tensor 선언\n",
        "x = torch.ones(2, 3)\n",
        "print(x)\n",
        "print(\"Tensor Type : \", x.type())\n",
        "print(\"Tensor Size : \", x.size())"
      ]
    },
    {
      "cell_type": "code",
      "execution_count": 12,
      "metadata": {
        "colab": {
          "base_uri": "https://localhost:8080/"
        },
        "id": "nkBW2qeSl4YK",
        "outputId": "964e2aab-96d2-4824-a6a2-d34791e8056b"
      },
      "outputs": [
        {
          "output_type": "stream",
          "name": "stdout",
          "text": [
            "tensor([[0.5977, 0.1535, 0.8459],\n",
            "        [0.3741, 0.7022, 0.8697]])\n",
            "Tensor Type :  torch.FloatTensor\n",
            "Tensor Size :  torch.Size([2, 3])\n"
          ]
        }
      ],
      "source": [
        "#0, 1 사이의 랜덤 숫자로 채워진 Tensor 선언\n",
        "x = torch.rand(2, 3)\n",
        "print(x)\n",
        "print(\"Tensor Type : \", x.type())\n",
        "print(\"Tensor Size : \", x.size())"
      ]
    },
    {
      "cell_type": "code",
      "execution_count": 13,
      "metadata": {
        "colab": {
          "base_uri": "https://localhost:8080/"
        },
        "id": "Yw4Q2VqFl4YL",
        "outputId": "4dd025f3-fd27-4a28-b9af-98b4b61cace8"
      },
      "outputs": [
        {
          "output_type": "stream",
          "name": "stdout",
          "text": [
            "tensor([[ 1.1477,  0.7237, -0.2399],\n",
            "        [ 0.1475, -0.8552,  2.2387]])\n",
            "Tensor Type :  torch.FloatTensor\n",
            "Tensor Size :  torch.Size([2, 3])\n"
          ]
        }
      ],
      "source": [
        "#평균이 0이고 분산이 1을 따르는 정규분포에서 추출된 값으로 채워진 Tensor 선언\n",
        "x = torch.randn(2, 3)\n",
        "print(x)\n",
        "print(\"Tensor Type : \", x.type())\n",
        "print(\"Tensor Size : \", x.size())"
      ]
    },
    {
      "cell_type": "code",
      "execution_count": 14,
      "metadata": {
        "colab": {
          "base_uri": "https://localhost:8080/"
        },
        "id": "IMqJCPh8l4YL",
        "outputId": "1bb711b6-cf1b-4e28-90c5-aab248ed4504"
      },
      "outputs": [
        {
          "output_type": "stream",
          "name": "stdout",
          "text": [
            "tensor([[1., 0., 0.],\n",
            "        [0., 1., 0.]])\n",
            "Tensor Type :  torch.FloatTensor\n",
            "Tensor Size :  torch.Size([2, 3])\n"
          ]
        }
      ],
      "source": [
        "#정방행렬과 같은 Tensor 선언\n",
        "x = torch.eye(2, 3)\n",
        "print(x)\n",
        "print(\"Tensor Type : \", x.type())\n",
        "print(\"Tensor Size : \", x.size())"
      ]
    },
    {
      "cell_type": "code",
      "execution_count": 15,
      "metadata": {
        "colab": {
          "base_uri": "https://localhost:8080/"
        },
        "id": "dg2xR12Zl4YM",
        "outputId": "2916200d-ce4a-4a8f-f5db-7a1f5cb04738",
        "scrolled": true
      },
      "outputs": [
        {
          "output_type": "stream",
          "name": "stdout",
          "text": [
            "tensor([0.0000, 0.5000, 1.0000, 1.5000])\n",
            "Tensor Type :  torch.FloatTensor\n",
            "Tensor Size :  torch.Size([4])\n"
          ]
        }
      ],
      "source": [
        "#0부터 2까지 0.5씩 증가하는 Tensor 선언\n",
        "x = torch.arange(0, 2, step=0.5)\n",
        "print(x)\n",
        "print(\"Tensor Type : \", x.type())\n",
        "print(\"Tensor Size : \", x.size())"
      ]
    },
    {
      "cell_type": "code",
      "execution_count": 16,
      "metadata": {
        "colab": {
          "base_uri": "https://localhost:8080/"
        },
        "id": "LW5ZufJnl4YN",
        "outputId": "97d0485a-e30f-465b-881c-2feb9920a790"
      },
      "outputs": [
        {
          "output_type": "stream",
          "name": "stdout",
          "text": [
            "tensor([[1., 2., 3.],\n",
            "        [1., 2., 3.]])\n",
            "Tensor Type :  torch.FloatTensor\n",
            "Tensor Size :  torch.Size([2, 3])\n"
          ]
        }
      ],
      "source": [
        "#직접 값을 입력하여 선언\n",
        "x = torch.Tensor([[1,2,3],[1,2,3]])\n",
        "print(x)\n",
        "print(\"Tensor Type : \", x.type())\n",
        "print(\"Tensor Size : \", x.size())"
      ]
    },
    {
      "cell_type": "code",
      "execution_count": 17,
      "metadata": {
        "colab": {
          "base_uri": "https://localhost:8080/"
        },
        "id": "u8ueXZ0Vl4YN",
        "outputId": "45852300-fba5-4582-b12e-6f071333edf1"
      },
      "outputs": [
        {
          "output_type": "stream",
          "name": "stdout",
          "text": [
            "tensor([[3.0833e-31, 4.3650e-41, 6.5116e-34],\n",
            "        [0.0000e+00, 0.0000e+00, 0.0000e+00]])\n",
            "Tensor Type :  torch.FloatTensor\n",
            "Tensor Size :  torch.Size([2, 3])\n"
          ]
        }
      ],
      "source": [
        "#32-bit floating point\n",
        "x = torch.FloatTensor(2,3)\n",
        "print(x)\n",
        "print(\"Tensor Type : \", x.type())\n",
        "print(\"Tensor Size : \", x.size())"
      ]
    },
    {
      "cell_type": "code",
      "execution_count": 18,
      "metadata": {
        "colab": {
          "base_uri": "https://localhost:8080/"
        },
        "id": "BiAynJqOl4YO",
        "outputId": "98765f02-659a-4169-90c6-b03b4ead90ce"
      },
      "outputs": [
        {
          "output_type": "stream",
          "name": "stdout",
          "text": [
            "tensor([[140023472,         0, 141627856],\n",
            "        [        0,        80,         0]], dtype=torch.int32)\n",
            "Tensor Type :  torch.IntTensor\n",
            "Tensor Size :  torch.Size([2, 3])\n"
          ]
        }
      ],
      "source": [
        "#32-bit integer (signed)\n",
        "x = torch.IntTensor(2,3)\n",
        "print(x)\n",
        "print(\"Tensor Type : \", x.type())\n",
        "print(\"Tensor Size : \", x.size())"
      ]
    },
    {
      "cell_type": "markdown",
      "metadata": {
        "id": "HHw9FoFml4YO"
      },
      "source": [
        "## 1.3 Tensor and Numpy"
      ]
    },
    {
      "cell_type": "code",
      "execution_count": 19,
      "metadata": {
        "id": "iZex7g85l4YO"
      },
      "outputs": [],
      "source": [
        "import numpy as np"
      ]
    },
    {
      "cell_type": "code",
      "execution_count": 20,
      "metadata": {
        "colab": {
          "base_uri": "https://localhost:8080/"
        },
        "id": "g2IsSByEl4YO",
        "outputId": "79743a0c-697e-4ec2-cb69-bfda252bf949"
      },
      "outputs": [
        {
          "output_type": "stream",
          "name": "stdout",
          "text": [
            "[[1 2 3]\n",
            " [1 2 3]] <class 'numpy.ndarray'>\n"
          ]
        }
      ],
      "source": [
        "#numpy 형식의 배열\n",
        "x = np.array([[1,2,3],[1,2,3]])\n",
        "print(x, type(x))"
      ]
    },
    {
      "cell_type": "code",
      "execution_count": 21,
      "metadata": {
        "colab": {
          "base_uri": "https://localhost:8080/"
        },
        "id": "nno_zU4Kl4YP",
        "outputId": "59a55608-57a8-41a2-c3c2-b93d6f4ae92c"
      },
      "outputs": [
        {
          "output_type": "stream",
          "name": "stdout",
          "text": [
            "tensor([[1, 2, 3],\n",
            "        [1, 2, 3]])\n",
            "Tensor Type :  torch.LongTensor\n",
            "Tensor Size :  torch.Size([2, 3])\n"
          ]
        }
      ],
      "source": [
        "#numpy를 tensor로 변환\n",
        "x = torch.from_numpy(x) # x = torch.Tensor(x)\n",
        "print(x)\n",
        "print(\"Tensor Type : \", x.type())\n",
        "print(\"Tensor Size : \", x.size())"
      ]
    },
    {
      "cell_type": "code",
      "execution_count": 22,
      "metadata": {
        "colab": {
          "base_uri": "https://localhost:8080/"
        },
        "id": "vOV8T21sl4YP",
        "outputId": "4fd80a7e-12bb-41da-a5bb-48bd3a28bdcf"
      },
      "outputs": [
        {
          "output_type": "stream",
          "name": "stdout",
          "text": [
            "[[1 2 3]\n",
            " [1 2 3]] <class 'numpy.ndarray'>\n"
          ]
        }
      ],
      "source": [
        "#tensor를 numpy로 변환\n",
        "x = x.numpy()\n",
        "print(x, type(x))"
      ]
    },
    {
      "cell_type": "markdown",
      "metadata": {
        "id": "4k4sN8gml4YQ"
      },
      "source": [
        "## 1.4 Tensor Slicing"
      ]
    },
    {
      "cell_type": "code",
      "execution_count": 23,
      "metadata": {
        "colab": {
          "base_uri": "https://localhost:8080/"
        },
        "id": "FOUrnm28l4YQ",
        "outputId": "c975a22b-a8b5-4385-d402-2be389f31e8c"
      },
      "outputs": [
        {
          "output_type": "stream",
          "name": "stdout",
          "text": [
            "tensor([[ 1.,  2.,  3.,  4.],\n",
            "        [ 5.,  6.,  7.,  8.],\n",
            "        [ 9., 10., 11., 12.]])\n"
          ]
        }
      ],
      "source": [
        "x = torch.Tensor([[1,2,3,4],[5,6,7,8],[9,10,11,12]])\n",
        "print(x)"
      ]
    },
    {
      "cell_type": "code",
      "execution_count": 24,
      "metadata": {
        "colab": {
          "base_uri": "https://localhost:8080/"
        },
        "id": "BplqStdQl4YR",
        "outputId": "9d35aca9-24f1-494b-914c-dc179baeb920"
      },
      "outputs": [
        {
          "output_type": "execute_result",
          "data": {
            "text/plain": [
              "tensor([[ 1.,  2.,  3.,  4.],\n",
              "        [ 5.,  6.,  7.,  8.],\n",
              "        [ 9., 10., 11., 12.]])"
            ]
          },
          "metadata": {},
          "execution_count": 24
        }
      ],
      "source": [
        "#모든 원소 출력\n",
        "x[:, :]"
      ]
    },
    {
      "cell_type": "code",
      "execution_count": 25,
      "metadata": {
        "colab": {
          "base_uri": "https://localhost:8080/"
        },
        "id": "Nu355zaHl4YR",
        "outputId": "3647271f-7fec-4781-c118-ba2649199841"
      },
      "outputs": [
        {
          "output_type": "execute_result",
          "data": {
            "text/plain": [
              "tensor([[ 5.,  6.,  7.,  8.],\n",
              "        [ 9., 10., 11., 12.]])"
            ]
          },
          "metadata": {},
          "execution_count": 25
        }
      ],
      "source": [
        "#2행부터 출력\n",
        "x[1:, :]"
      ]
    },
    {
      "cell_type": "code",
      "execution_count": 26,
      "metadata": {
        "colab": {
          "base_uri": "https://localhost:8080/"
        },
        "id": "OFo8W6dTl4YR",
        "outputId": "4145cec6-a7c2-48e8-8f80-cf46d71335ee",
        "scrolled": true
      },
      "outputs": [
        {
          "output_type": "execute_result",
          "data": {
            "text/plain": [
              "tensor([[ 2.,  3.,  4.],\n",
              "        [ 6.,  7.,  8.],\n",
              "        [10., 11., 12.]])"
            ]
          },
          "metadata": {},
          "execution_count": 26
        }
      ],
      "source": [
        "#2열부터 출력\n",
        "x[:, 1:]"
      ]
    },
    {
      "cell_type": "code",
      "execution_count": 27,
      "metadata": {
        "colab": {
          "base_uri": "https://localhost:8080/"
        },
        "id": "L2u5-oG4l4YS",
        "outputId": "22e9c0b8-796d-4eec-b8cb-17f0fc14c609"
      },
      "outputs": [
        {
          "output_type": "execute_result",
          "data": {
            "text/plain": [
              "tensor([[ 6.,  7.],\n",
              "        [10., 11.]])"
            ]
          },
          "metadata": {},
          "execution_count": 27
        }
      ],
      "source": [
        "#2행, 2열부터 3열까지 출력\n",
        "x[1:, 1:3]"
      ]
    },
    {
      "cell_type": "code",
      "execution_count": 28,
      "metadata": {
        "colab": {
          "base_uri": "https://localhost:8080/"
        },
        "id": "Cq1qU3OUl4YS",
        "outputId": "cf4a8d63-819f-42aa-8684-dccc7dfd828f",
        "scrolled": true
      },
      "outputs": [
        {
          "output_type": "execute_result",
          "data": {
            "text/plain": [
              "tensor([1., 2., 3., 4.])"
            ]
          },
          "metadata": {},
          "execution_count": 28
        }
      ],
      "source": [
        "#1행 출력\n",
        "x[0, :]"
      ]
    },
    {
      "cell_type": "code",
      "execution_count": 29,
      "metadata": {
        "colab": {
          "base_uri": "https://localhost:8080/"
        },
        "id": "Db5J-wWzl4YS",
        "outputId": "b4e457f7-2c97-4d20-8af7-822d756e5a3e"
      },
      "outputs": [
        {
          "output_type": "stream",
          "name": "stdout",
          "text": [
            "(tensor([[1., 2., 3., 4.]]), tensor([[5., 6., 7., 8.]]), tensor([[ 9., 10., 11., 12.]]))\n"
          ]
        }
      ],
      "source": [
        "#x를 1행씩 잘라서 배열로 저장\n",
        "x_rows = torch.split(x, split_size_or_sections=1, dim=0)\n",
        "print(x_rows)"
      ]
    },
    {
      "cell_type": "code",
      "execution_count": 30,
      "metadata": {
        "colab": {
          "base_uri": "https://localhost:8080/"
        },
        "id": "hlA7hMR4l4YS",
        "outputId": "54faeac7-9c08-4a14-f989-710d0fd4c658"
      },
      "outputs": [
        {
          "output_type": "stream",
          "name": "stdout",
          "text": [
            "(tensor([[ 1.,  2.],\n",
            "        [ 5.,  6.],\n",
            "        [ 9., 10.]]), tensor([[ 3.,  4.],\n",
            "        [ 7.,  8.],\n",
            "        [11., 12.]]))\n"
          ]
        }
      ],
      "source": [
        "#x를 2열씩 잘라서 배열로 저장\n",
        "x_cols = torch.split(x, split_size_or_sections=2, dim=1)\n",
        "print(x_cols)"
      ]
    },
    {
      "cell_type": "code",
      "execution_count": 31,
      "metadata": {
        "colab": {
          "base_uri": "https://localhost:8080/"
        },
        "id": "LaNGOq-Ll4YT",
        "outputId": "2f15ec31-6759-4f41-da82-d335989362c3"
      },
      "outputs": [
        {
          "output_type": "execute_result",
          "data": {
            "text/plain": [
              "(tensor([[ 1.,  2.],\n",
              "         [ 5.,  6.],\n",
              "         [ 9., 10.]]),\n",
              " tensor([[ 3.,  4.],\n",
              "         [ 7.,  8.],\n",
              "         [11., 12.]]))"
            ]
          },
          "metadata": {},
          "execution_count": 31
        }
      ],
      "source": [
        "#위와 같은 결과\n",
        "torch.chunk(x, chunks=2, dim=1)"
      ]
    },
    {
      "cell_type": "markdown",
      "metadata": {
        "id": "5fvKxT6gl4YT"
      },
      "source": [
        "## 1.5 Tensor Merging"
      ]
    },
    {
      "cell_type": "code",
      "execution_count": 32,
      "metadata": {
        "colab": {
          "base_uri": "https://localhost:8080/"
        },
        "id": "Mk9FljMMl4YT",
        "outputId": "bb6a12e6-4a42-4946-9d26-b3cfb5dbc2fc"
      },
      "outputs": [
        {
          "output_type": "execute_result",
          "data": {
            "text/plain": [
              "tensor([[ 1.,  2.,  3.,  4.],\n",
              "        [ 5.,  6.,  7.,  8.],\n",
              "        [ 9., 10., 11., 12.]])"
            ]
          },
          "metadata": {},
          "execution_count": 32
        }
      ],
      "source": [
        "#x_rows를 행으로 이어 붙이기\n",
        "torch.cat(x_rows, dim=0)"
      ]
    },
    {
      "cell_type": "code",
      "execution_count": 33,
      "metadata": {
        "colab": {
          "base_uri": "https://localhost:8080/"
        },
        "id": "RkSmjWJvl4YT",
        "outputId": "2444518f-aff7-48ad-dd4a-2f12ba918ff9"
      },
      "outputs": [
        {
          "output_type": "execute_result",
          "data": {
            "text/plain": [
              "tensor([[ 1.,  2.,  3.,  4.,  5.,  6.,  7.,  8.,  9., 10., 11., 12.]])"
            ]
          },
          "metadata": {},
          "execution_count": 33
        }
      ],
      "source": [
        "#x_rows를 열로 이어 붙이기\n",
        "torch.cat(x_rows, dim=1)"
      ]
    },
    {
      "cell_type": "code",
      "execution_count": 34,
      "metadata": {
        "colab": {
          "base_uri": "https://localhost:8080/"
        },
        "id": "QUc20E_Fl4YT",
        "outputId": "3880bb2b-4663-4cf2-c1b3-e2ce146c6823"
      },
      "outputs": [
        {
          "output_type": "stream",
          "name": "stdout",
          "text": [
            "tensor([[[ 1.,  2.],\n",
            "         [ 5.,  6.],\n",
            "         [ 9., 10.]],\n",
            "\n",
            "        [[ 3.,  4.],\n",
            "         [ 7.,  8.],\n",
            "         [11., 12.]]])\n"
          ]
        }
      ],
      "source": [
        "#x_cols를 쌓아올리기\n",
        "x_new = torch.stack(x_cols, dim=0)\n",
        "print(x_new)"
      ]
    },
    {
      "cell_type": "markdown",
      "metadata": {
        "id": "1Td6GTu5l4YU"
      },
      "source": [
        "## 1.6 Tensor Reshaping"
      ]
    },
    {
      "cell_type": "code",
      "execution_count": 35,
      "metadata": {
        "colab": {
          "base_uri": "https://localhost:8080/"
        },
        "id": "tP_VtBg3l4YU",
        "outputId": "bc2fb35e-c25d-4153-e36f-20fb341bfc72",
        "scrolled": true
      },
      "outputs": [
        {
          "output_type": "stream",
          "name": "stdout",
          "text": [
            "tensor([[ 1.,  2.,  3.,  4.],\n",
            "        [ 5.,  6.,  7.,  8.],\n",
            "        [ 9., 10., 11., 12.]])\n"
          ]
        }
      ],
      "source": [
        "x = torch.Tensor([[1,2,3,4],[5,6,7,8],[9,10,11,12]])\n",
        "print(x)"
      ]
    },
    {
      "cell_type": "code",
      "execution_count": 36,
      "metadata": {
        "colab": {
          "base_uri": "https://localhost:8080/"
        },
        "id": "Ii1-ZN3ol4YU",
        "outputId": "e7b34855-37ea-446a-bf10-aee08f80129e"
      },
      "outputs": [
        {
          "output_type": "execute_result",
          "data": {
            "text/plain": [
              "tensor([[ 1.,  2.,  3.],\n",
              "        [ 4.,  5.,  6.],\n",
              "        [ 7.,  8.,  9.],\n",
              "        [10., 11., 12.]])"
            ]
          },
          "metadata": {},
          "execution_count": 36
        }
      ],
      "source": [
        "#4행 3열로 바꾸기\n",
        "x.view(4, 3)"
      ]
    },
    {
      "cell_type": "code",
      "execution_count": 37,
      "metadata": {
        "colab": {
          "base_uri": "https://localhost:8080/"
        },
        "id": "Y8je5SY1l4YU",
        "outputId": "47fc9e62-ff5a-4499-a7cb-ea25f5ede594"
      },
      "outputs": [
        {
          "output_type": "execute_result",
          "data": {
            "text/plain": [
              "tensor([[ 1.,  2.],\n",
              "        [ 3.,  4.],\n",
              "        [ 5.,  6.],\n",
              "        [ 7.,  8.],\n",
              "        [ 9., 10.],\n",
              "        [11., 12.]])"
            ]
          },
          "metadata": {},
          "execution_count": 37
        }
      ],
      "source": [
        "#2열로 바꾸기\n",
        "x.view(-1, 2)"
      ]
    },
    {
      "cell_type": "code",
      "execution_count": 38,
      "metadata": {
        "colab": {
          "base_uri": "https://localhost:8080/"
        },
        "id": "71E-YypMl4YU",
        "outputId": "30de8035-cbbd-4075-ecfd-234bab0ad6c7"
      },
      "outputs": [
        {
          "output_type": "execute_result",
          "data": {
            "text/plain": [
              "tensor([[[ 1.,  2.,  3.,  4.,  5.,  6.]],\n",
              "\n",
              "        [[ 7.,  8.,  9., 10., 11., 12.]]])"
            ]
          },
          "metadata": {},
          "execution_count": 38
        }
      ],
      "source": [
        "x.view(2, 1, -1)"
      ]
    },
    {
      "cell_type": "code",
      "execution_count": 39,
      "metadata": {
        "colab": {
          "base_uri": "https://localhost:8080/"
        },
        "id": "RFkWVSh0l4YV",
        "outputId": "2e6b06c0-a1f8-499e-f045-aaea3af41ea5"
      },
      "outputs": [
        {
          "output_type": "execute_result",
          "data": {
            "text/plain": [
              "tensor([[ 1.,  2.,  3.,  4.,  5.,  6.],\n",
              "        [ 7.,  8.,  9., 10., 11., 12.]])"
            ]
          },
          "metadata": {},
          "execution_count": 39
        }
      ],
      "source": [
        "#차원이 1인 값을 축소: (2,6)\n",
        "x.view(2, 1, -1).squeeze()"
      ]
    },
    {
      "cell_type": "code",
      "execution_count": 40,
      "metadata": {
        "colab": {
          "base_uri": "https://localhost:8080/"
        },
        "id": "QvNNcXRjl4YV",
        "outputId": "0e9240fd-b6e1-4f17-d270-62b92431263e"
      },
      "outputs": [
        {
          "output_type": "execute_result",
          "data": {
            "text/plain": [
              "torch.Size([2, 1, 6])"
            ]
          },
          "metadata": {},
          "execution_count": 40
        }
      ],
      "source": [
        "#dim=1 자리에 차원을 추가: (2,1,6)\n",
        "x.view(2, 1, -1).squeeze().unsqueeze(dim=1).size()"
      ]
    },
    {
      "cell_type": "markdown",
      "metadata": {
        "id": "QZgFMhndl4YV"
      },
      "source": [
        "## 1.7 Tensor Calculation"
      ]
    },
    {
      "cell_type": "code",
      "execution_count": 41,
      "metadata": {
        "colab": {
          "base_uri": "https://localhost:8080/"
        },
        "id": "hFDBAMC0l4YV",
        "outputId": "cf5773db-5bee-43f4-d9c8-5f1887422b4b"
      },
      "outputs": [
        {
          "output_type": "stream",
          "name": "stdout",
          "text": [
            "x : tensor([[1., 2., 3.],\n",
            "        [4., 5., 6.]])\n",
            "y : tensor([[1., 1., 1.],\n",
            "        [2., 2., 2.]])\n"
          ]
        }
      ],
      "source": [
        "x = torch.Tensor([[1,2,3],[4,5,6]])\n",
        "y = torch.Tensor([[1,1,1],[2,2,2]])\n",
        "print(\"x :\", x)\n",
        "print(\"y :\", y)"
      ]
    },
    {
      "cell_type": "code",
      "execution_count": 42,
      "metadata": {
        "colab": {
          "base_uri": "https://localhost:8080/"
        },
        "id": "tdOPrYHLl4YV",
        "outputId": "abd1c3f8-6f7c-4ee7-d33f-f2855e1b8f3d"
      },
      "outputs": [
        {
          "output_type": "stream",
          "name": "stdout",
          "text": [
            "z : tensor([[2., 3., 4.],\n",
            "        [6., 7., 8.]])\n",
            "x+y : tensor([[2., 3., 4.],\n",
            "        [6., 7., 8.]])\n"
          ]
        }
      ],
      "source": [
        "# x와 y의 합\n",
        "z = torch.add(x, y)\n",
        "print(\"z :\", z)\n",
        "print(\"x+y :\", x+y)"
      ]
    },
    {
      "cell_type": "code",
      "execution_count": 43,
      "metadata": {
        "colab": {
          "base_uri": "https://localhost:8080/"
        },
        "id": "zFGp5coNl4YV",
        "outputId": "674e53f0-7491-4a67-ff80-0ce27e542d34"
      },
      "outputs": [
        {
          "output_type": "stream",
          "name": "stdout",
          "text": [
            "tensor([[-1.,  0.,  1.],\n",
            "        [ 2.,  3.,  4.]])\n",
            "tensor([[ 2.,  4.,  6.],\n",
            "        [ 8., 10., 12.]])\n"
          ]
        }
      ],
      "source": [
        "# x의 모든 원소에서 2를 뺌\n",
        "print(x - 2)\n",
        "\n",
        "# x의 모든 원소에 2를 곱함\n",
        "print(2*x)"
      ]
    },
    {
      "cell_type": "code",
      "execution_count": 44,
      "metadata": {
        "colab": {
          "base_uri": "https://localhost:8080/"
        },
        "id": "RY8Diuj3l4YW",
        "outputId": "df40c6dd-9e70-4ea9-fc58-3a0c5f0824e4"
      },
      "outputs": [
        {
          "output_type": "stream",
          "name": "stdout",
          "text": [
            "z : tensor([[ 1.,  2.,  3.],\n",
            "        [ 8., 10., 12.]])\n",
            "x*y : tensor([[ 1.,  2.,  3.],\n",
            "        [ 8., 10., 12.]])\n"
          ]
        }
      ],
      "source": [
        "#x의 원소와 y의 원소를 각각 곱함\n",
        "z = torch.mul(x, y)\n",
        "print(\"z :\", z)\n",
        "print(\"x*y :\", x*y)"
      ]
    },
    {
      "cell_type": "code",
      "execution_count": 45,
      "metadata": {
        "colab": {
          "base_uri": "https://localhost:8080/"
        },
        "id": "OpgXL6gbl4YW",
        "outputId": "1bea06aa-a85e-400a-b1fc-852fc8593ce0"
      },
      "outputs": [
        {
          "output_type": "stream",
          "name": "stdout",
          "text": [
            "z : tensor([[ 1.,  4.,  9.],\n",
            "        [16., 25., 36.]])\n",
            "x**2 : tensor([[ 1.,  4.,  9.],\n",
            "        [16., 25., 36.]])\n"
          ]
        }
      ],
      "source": [
        "#x의 원소를 각각 제곱함\n",
        "z = torch.pow(x, 2)\n",
        "print(\"z :\", z)\n",
        "print(\"x**2 :\", x**2)"
      ]
    },
    {
      "cell_type": "code",
      "execution_count": 46,
      "metadata": {
        "colab": {
          "base_uri": "https://localhost:8080/"
        },
        "id": "OhlKTWy1l4YW",
        "outputId": "129582ca-aea3-4794-c39d-0f58c2eab45d"
      },
      "outputs": [
        {
          "output_type": "stream",
          "name": "stdout",
          "text": [
            "z : tensor([[0.0000, 0.6931, 1.0986],\n",
            "        [1.3863, 1.6094, 1.7918]])\n",
            "x.log() : tensor([[0.0000, 0.6931, 1.0986],\n",
            "        [1.3863, 1.6094, 1.7918]])\n"
          ]
        }
      ],
      "source": [
        "#x의 원소에 log를 씌움\n",
        "z = torch.log(x)\n",
        "print(\"z :\", z)\n",
        "print(\"x.log() :\", x.log())"
      ]
    },
    {
      "cell_type": "code",
      "execution_count": 47,
      "metadata": {
        "colab": {
          "base_uri": "https://localhost:8080/"
        },
        "id": "d3g5IQvvl4YW",
        "outputId": "77e926d7-68ae-4fe0-f496-8171d4fbc414"
      },
      "outputs": [
        {
          "output_type": "stream",
          "name": "stdout",
          "text": [
            "z : tensor([[1.0000, 1.4142, 1.7321],\n",
            "        [2.0000, 2.2361, 2.4495]])\n",
            "x.sqrt() : tensor([[1.0000, 1.4142, 1.7321],\n",
            "        [2.0000, 2.2361, 2.4495]])\n"
          ]
        }
      ],
      "source": [
        "#x의 원소에 루트를 씌움\n",
        "z = torch.sqrt(x)\n",
        "print(\"z :\", z)\n",
        "print(\"x.sqrt() :\", x.sqrt())"
      ]
    },
    {
      "cell_type": "code",
      "execution_count": 48,
      "metadata": {
        "colab": {
          "base_uri": "https://localhost:8080/"
        },
        "id": "CkT0CElxl4YW",
        "outputId": "3c12d839-ed9b-4da1-fb84-58285f107446"
      },
      "outputs": [
        {
          "output_type": "stream",
          "name": "stdout",
          "text": [
            "tensor([[1., 0., 1.],\n",
            "        [0., 1., 0.]])\n"
          ]
        }
      ],
      "source": [
        "#x의 원소에 나머지(mod) 계산\n",
        "z = x % 2\n",
        "print(z)"
      ]
    },
    {
      "cell_type": "code",
      "execution_count": 49,
      "metadata": {
        "colab": {
          "base_uri": "https://localhost:8080/"
        },
        "id": "Sjc2RNxwl4YW",
        "outputId": "783af642-618b-4405-e483-f5d905425759"
      },
      "outputs": [
        {
          "output_type": "stream",
          "name": "stdout",
          "text": [
            "z : tensor([[1., 2., 3.],\n",
            "        [4., 5., 6.]])\n",
            "x.abs() : tensor([[1., 2., 3.],\n",
            "        [4., 5., 6.]])\n"
          ]
        }
      ],
      "source": [
        "#x에 절댓값\n",
        "z = torch.abs(x)\n",
        "print(\"z :\", z)\n",
        "print(\"x.abs() :\", x.abs())"
      ]
    },
    {
      "cell_type": "markdown",
      "metadata": {
        "id": "CNOZKrYBl4YX"
      },
      "source": [
        "## 1.9 Tensor Statistic"
      ]
    },
    {
      "cell_type": "code",
      "execution_count": 50,
      "metadata": {
        "colab": {
          "base_uri": "https://localhost:8080/"
        },
        "id": "Z6z__qEYl4YX",
        "outputId": "19b1324e-2f52-4fd4-b91e-84ae9ee3d373"
      },
      "outputs": [
        {
          "output_type": "stream",
          "name": "stdout",
          "text": [
            "tensor([[-1.,  2., -3.],\n",
            "        [ 4., -5.,  6.]])\n"
          ]
        }
      ],
      "source": [
        "x = torch.Tensor([[-1,2,-3],[4,-5,6]])\n",
        "print(x)"
      ]
    },
    {
      "cell_type": "code",
      "execution_count": 51,
      "metadata": {
        "colab": {
          "base_uri": "https://localhost:8080/"
        },
        "id": "4oZDLoIkl4YX",
        "outputId": "b68e74c5-52ea-4cea-c689-f4c5648705d1"
      },
      "outputs": [
        {
          "output_type": "stream",
          "name": "stdout",
          "text": [
            "x의 합 : tensor(3.)\n",
            "x의 최대값 : tensor(6.)\n",
            "x의 최소값 : tensor(-5.)\n",
            "x의 분산 : tensor(17.9000)\n"
          ]
        }
      ],
      "source": [
        "print(\"x의 합 :\", x.sum())\n",
        "print(\"x의 최대값 :\", x.max())\n",
        "print(\"x의 최소값 :\", x.min())\n",
        "print(\"x의 분산 :\", x.var())"
      ]
    },
    {
      "cell_type": "code",
      "execution_count": 52,
      "metadata": {
        "colab": {
          "base_uri": "https://localhost:8080/"
        },
        "id": "CyZhQPAJl4YY",
        "outputId": "7cf38356-6898-4084-a090-231a19f52adc"
      },
      "outputs": [
        {
          "output_type": "execute_result",
          "data": {
            "text/plain": [
              "torch.Size([])"
            ]
          },
          "metadata": {},
          "execution_count": 52
        }
      ],
      "source": [
        "# Scalar Tensor\n",
        "x.sum().size()"
      ]
    },
    {
      "cell_type": "code",
      "execution_count": 53,
      "metadata": {
        "colab": {
          "base_uri": "https://localhost:8080/"
        },
        "id": "0eVuPajAl4YY",
        "outputId": "e24f8ce4-b506-4d0b-b33b-5abe1333aef4"
      },
      "outputs": [
        {
          "output_type": "stream",
          "name": "stdout",
          "text": [
            "x의 합 : 3.0\n",
            "x의 최대값 : 6.0\n",
            "x의 최소값 : -5.0\n",
            "x의 분산 : 17.899999618530273\n"
          ]
        }
      ],
      "source": [
        "# item의 활용\n",
        "print(\"x의 합 :\", x.sum().item())\n",
        "print(\"x의 최대값 :\", x.max().item())\n",
        "print(\"x의 최소값 :\", x.min().item())\n",
        "print(\"x의 분산 :\", x.var().item())"
      ]
    },
    {
      "cell_type": "code",
      "execution_count": 54,
      "metadata": {
        "colab": {
          "base_uri": "https://localhost:8080/"
        },
        "id": "Fg_zl01wl4YY",
        "outputId": "93cfdeba-0412-454a-fb1d-52da318a4588"
      },
      "outputs": [
        {
          "output_type": "execute_result",
          "data": {
            "text/plain": [
              "(tensor([4., 2., 6.]), tensor([1, 0, 1]))"
            ]
          },
          "metadata": {},
          "execution_count": 54
        }
      ],
      "source": [
        "#행(dim=0)을 기준으로 열의 최댓값을 출력\n",
        "value, index = x.max(dim=0)\n",
        "value, index"
      ]
    },
    {
      "cell_type": "code",
      "execution_count": 55,
      "metadata": {
        "colab": {
          "base_uri": "https://localhost:8080/"
        },
        "id": "U8Vxifkll4YY",
        "outputId": "e0bc2e54-7b64-48ea-e154-edadea90efe1"
      },
      "outputs": [
        {
          "output_type": "execute_result",
          "data": {
            "text/plain": [
              "(tensor([2., 6.]), tensor([1, 2]))"
            ]
          },
          "metadata": {},
          "execution_count": 55
        }
      ],
      "source": [
        "#열(dim=1)을 기준으로 행의 최댓값을 출력\n",
        "value, index = x.max(dim=1)\n",
        "value, index\n",
        "\n",
        "# torch.max(x, dim=1)과 같은 결과\n",
        "# 이는 추후에 계속 등장하므로 매우 중요!"
      ]
    },
    {
      "cell_type": "code",
      "execution_count": 56,
      "metadata": {
        "colab": {
          "base_uri": "https://localhost:8080/"
        },
        "id": "BiEgh-4Tl4YY",
        "outputId": "f4ba2e8d-7789-46d8-9ddc-77484f9071a7"
      },
      "outputs": [
        {
          "output_type": "execute_result",
          "data": {
            "text/plain": [
              "tensor([[-3., -1.,  2.],\n",
              "        [-5.,  4.,  6.]])"
            ]
          },
          "metadata": {},
          "execution_count": 56
        }
      ],
      "source": [
        "#열(dim=1)을 기준으로 각 행을 정렬\n",
        "value, index = x.sort(dim=1)\n",
        "value"
      ]
    },
    {
      "cell_type": "markdown",
      "metadata": {
        "id": "AKufRczcl4YZ"
      },
      "source": [
        "## 1.11 Tensor for GPU"
      ]
    },
    {
      "cell_type": "code",
      "execution_count": 57,
      "metadata": {
        "colab": {
          "base_uri": "https://localhost:8080/"
        },
        "id": "4zK2bqBVl4YZ",
        "outputId": "abc37f1e-d3b9-4cdd-c9f3-362391cfc393"
      },
      "outputs": [
        {
          "output_type": "stream",
          "name": "stdout",
          "text": [
            "현재 Cuda 사용 가능한 Device 개수 : 1\n",
            "현재 Cuda 사용 가능 여부 : True\n",
            "현재 사용 중인 Cuda Device : 0\n",
            "현재 Cuda Device 이름 : Tesla T4\n",
            "현재 Cuda Device의 사용 가능한 메모리 : 0 bytes\n",
            "현재 Cuda Device의 사용 중인 메모리 : 0 bytes\n"
          ]
        }
      ],
      "source": [
        "# cuda 확인\n",
        "print(\"현재 Cuda 사용 가능한 Device 개수 :\", torch.cuda.device_count())\n",
        "print(\"현재 Cuda 사용 가능 여부 :\", torch.cuda.is_available())\n",
        "print(\"현재 사용 중인 Cuda Device :\", torch.cuda.current_device())\n",
        "print(\"현재 Cuda Device 이름 :\", torch.cuda.get_device_name(0))\n",
        "print(\"현재 Cuda Device의 사용 가능한 메모리 :\", torch.cuda.max_memory_allocated(device=0), \"bytes\")\n",
        "print(\"현재 Cuda Device의 사용 중인 메모리 :\", torch.cuda.memory_allocated(device=0), \"bytes\")"
      ]
    },
    {
      "cell_type": "code",
      "execution_count": 58,
      "metadata": {
        "id": "kFfxPdUAl4YZ"
      },
      "outputs": [],
      "source": [
        "# cuda 세팅\n",
        "torch.cuda.set_device(0)"
      ]
    },
    {
      "cell_type": "code",
      "execution_count": 59,
      "metadata": {
        "colab": {
          "base_uri": "https://localhost:8080/"
        },
        "id": "xFf7vog5l4YZ",
        "outputId": "eaa04ac4-2502-4197-92be-92f1d54b25a1",
        "scrolled": true
      },
      "outputs": [
        {
          "output_type": "stream",
          "name": "stdout",
          "text": [
            "tensor([[1., 2., 3.],\n",
            "        [1., 2., 3.]])\n"
          ]
        }
      ],
      "source": [
        "x = torch.Tensor([[1,2,3],[1,2,3]])\n",
        "print(x)"
      ]
    },
    {
      "cell_type": "code",
      "execution_count": 60,
      "metadata": {
        "colab": {
          "base_uri": "https://localhost:8080/"
        },
        "id": "UD-YO48Vl4YZ",
        "outputId": "157beb3f-03dd-460f-a41d-e5cb05d9f48e"
      },
      "outputs": [
        {
          "output_type": "stream",
          "name": "stdout",
          "text": [
            "tensor([[1., 2., 3.],\n",
            "        [1., 2., 3.]], device='cuda:0')\n",
            "Tensor Type :  torch.cuda.FloatTensor\n",
            "Tensor Size :  torch.Size([2, 3])\n"
          ]
        }
      ],
      "source": [
        "#cpu를 gpu로 전환\n",
        "gpu_x = x.cuda()\n",
        "print(gpu_x)\n",
        "print(\"Tensor Type : \", gpu_x.type())\n",
        "print(\"Tensor Size : \", gpu_x.size())"
      ]
    },
    {
      "cell_type": "code",
      "execution_count": 61,
      "metadata": {
        "colab": {
          "base_uri": "https://localhost:8080/"
        },
        "id": "oIU3MRnhl4Ya",
        "outputId": "a665215c-996c-416a-c2e3-779ca81112a2"
      },
      "outputs": [
        {
          "output_type": "stream",
          "name": "stdout",
          "text": [
            "tensor([[1., 2., 3.],\n",
            "        [1., 2., 3.]], device='cuda:0')\n",
            "Tensor Type :  torch.cuda.FloatTensor\n",
            "Tensor Size :  torch.Size([2, 3])\n"
          ]
        }
      ],
      "source": [
        "#cpu를 gpu로 전환 2\n",
        "device = torch.device(\"cuda\")\n",
        "gpu_x = x.to(device)\n",
        "print(gpu_x)\n",
        "print(\"Tensor Type : \", gpu_x.type())\n",
        "print(\"Tensor Size : \", gpu_x.size())"
      ]
    },
    {
      "cell_type": "code",
      "execution_count": 62,
      "metadata": {
        "colab": {
          "base_uri": "https://localhost:8080/"
        },
        "id": "g-Hqhp2bl4Ya",
        "outputId": "daefd4ce-a124-4948-aa0a-bb45154b9f6e"
      },
      "outputs": [
        {
          "output_type": "stream",
          "name": "stdout",
          "text": [
            "tensor([[1., 2., 3.],\n",
            "        [1., 2., 3.]])\n",
            "Tensor Type :  torch.FloatTensor\n",
            "Tensor Size :  torch.Size([2, 3])\n"
          ]
        }
      ],
      "source": [
        "#gpu를 cpu로 전환\n",
        "x = gpu_x.cpu()\n",
        "print(x)\n",
        "print(\"Tensor Type : \", x.type())\n",
        "print(\"Tensor Size : \", x.size())"
      ]
    },
    {
      "cell_type": "code",
      "execution_count": 63,
      "metadata": {
        "colab": {
          "base_uri": "https://localhost:8080/"
        },
        "id": "drykkRPpl4Ya",
        "outputId": "30d4431d-79f1-4179-f131-f406402d62e2"
      },
      "outputs": [
        {
          "output_type": "stream",
          "name": "stdout",
          "text": [
            "tensor([[1., 2., 3.],\n",
            "        [1., 2., 3.]])\n",
            "Tensor Type :  torch.FloatTensor\n",
            "Tensor Size :  torch.Size([2, 3])\n"
          ]
        }
      ],
      "source": [
        "#gpu를 cpu로 전환 2\n",
        "device = torch.device(\"cpu\")\n",
        "x = gpu_x.to(device)\n",
        "print(x)\n",
        "print(\"Tensor Type : \", x.type())\n",
        "print(\"Tensor Size : \", x.size())"
      ]
    },
    {
      "cell_type": "code",
      "execution_count": 64,
      "metadata": {
        "colab": {
          "base_uri": "https://localhost:8080/",
          "height": 166
        },
        "id": "WD4jhvKGl4Ya",
        "outputId": "c906d786-41b9-4f2e-eff2-b1066b83df1c"
      },
      "outputs": [
        {
          "output_type": "error",
          "ename": "RuntimeError",
          "evalue": "Expected all tensors to be on the same device, but found at least two devices, cuda:0 and cpu!",
          "traceback": [
            "\u001b[0;31m---------------------------------------------------------------------------\u001b[0m",
            "\u001b[0;31mRuntimeError\u001b[0m                              Traceback (most recent call last)",
            "\u001b[0;32m<ipython-input-64-8f59ed9ccba0>\u001b[0m in \u001b[0;36m<cell line: 0>\u001b[0;34m()\u001b[0m\n\u001b[1;32m      1\u001b[0m \u001b[0;31m# gpu tensor와 cpu tensor의 연산\u001b[0m\u001b[0;34m\u001b[0m\u001b[0;34m\u001b[0m\u001b[0m\n\u001b[0;32m----> 2\u001b[0;31m \u001b[0mgpu_x\u001b[0m \u001b[0;34m+\u001b[0m \u001b[0mx\u001b[0m\u001b[0;34m\u001b[0m\u001b[0;34m\u001b[0m\u001b[0m\n\u001b[0m",
            "\u001b[0;31mRuntimeError\u001b[0m: Expected all tensors to be on the same device, but found at least two devices, cuda:0 and cpu!"
          ]
        }
      ],
      "source": [
        "# gpu tensor와 cpu tensor의 연산\n",
        "gpu_x + x"
      ]
    },
    {
      "cell_type": "markdown",
      "metadata": {
        "id": "KMrCz4twl4Ya"
      },
      "source": [
        "## 1.12 Tensor Calculation as Matrix (참고)"
      ]
    },
    {
      "cell_type": "code",
      "execution_count": 65,
      "metadata": {
        "colab": {
          "base_uri": "https://localhost:8080/"
        },
        "id": "t-ZhJsSll4Ya",
        "outputId": "3c324777-5e2b-44fd-903b-81be1a944a90"
      },
      "outputs": [
        {
          "output_type": "stream",
          "name": "stdout",
          "text": [
            "x : tensor([[1., 1.],\n",
            "        [2., 2.]])\n",
            "y : tensor([[1., 2.],\n",
            "        [3., 4.]])\n"
          ]
        }
      ],
      "source": [
        "x = torch.Tensor([[1,1],[2,2]])\n",
        "y = torch.Tensor([[1,2],[3,4]])\n",
        "print(\"x :\", x)\n",
        "print(\"y :\", y)"
      ]
    },
    {
      "cell_type": "code",
      "execution_count": 66,
      "metadata": {
        "colab": {
          "base_uri": "https://localhost:8080/"
        },
        "id": "V5EI03OKl4Yb",
        "outputId": "ef8291e2-9489-4285-bf5d-be85a2d16574"
      },
      "outputs": [
        {
          "output_type": "execute_result",
          "data": {
            "text/plain": [
              "tensor([[ 4.,  6.],\n",
              "        [ 8., 12.]])"
            ]
          },
          "metadata": {},
          "execution_count": 66
        }
      ],
      "source": [
        "#x와 y의 행렬곱\n",
        "torch.mm(x, y)"
      ]
    },
    {
      "cell_type": "code",
      "execution_count": 67,
      "metadata": {
        "colab": {
          "base_uri": "https://localhost:8080/"
        },
        "id": "RMDNaXGDl4Yb",
        "outputId": "f71fa348-a47b-4ec8-d413-3214903f020b"
      },
      "outputs": [
        {
          "output_type": "execute_result",
          "data": {
            "text/plain": [
              "tensor([3., 6.])"
            ]
          },
          "metadata": {},
          "execution_count": 67
        }
      ],
      "source": [
        "#x와 z의 행렬벡터곱\n",
        "z = torch.Tensor([1, 2])\n",
        "torch.mv(x, z)"
      ]
    },
    {
      "cell_type": "code",
      "execution_count": 68,
      "metadata": {
        "colab": {
          "base_uri": "https://localhost:8080/"
        },
        "id": "bXAs9yYVl4Yb",
        "outputId": "1c6861f1-32e7-4ae2-d157-5b5cde796d17"
      },
      "outputs": [
        {
          "output_type": "execute_result",
          "data": {
            "text/plain": [
              "tensor(5.)"
            ]
          },
          "metadata": {},
          "execution_count": 68
        }
      ],
      "source": [
        "#z와 z의 내적\n",
        "torch.dot(z, z)"
      ]
    },
    {
      "cell_type": "code",
      "execution_count": 69,
      "metadata": {
        "colab": {
          "base_uri": "https://localhost:8080/"
        },
        "id": "drExrbl4l4Yb",
        "outputId": "1cbe64ea-6b82-45cc-dda2-6cc15d42f37a"
      },
      "outputs": [
        {
          "output_type": "execute_result",
          "data": {
            "text/plain": [
              "tensor([[1., 2.],\n",
              "        [1., 2.]])"
            ]
          },
          "metadata": {},
          "execution_count": 69
        }
      ],
      "source": [
        "#x의 전치(transpose)\n",
        "x.t()"
      ]
    },
    {
      "cell_type": "code",
      "execution_count": 70,
      "metadata": {
        "colab": {
          "base_uri": "https://localhost:8080/"
        },
        "id": "pHH7k1tTl4Yb",
        "outputId": "e7db901a-aea5-4c7e-e5eb-08d37b594aba"
      },
      "outputs": [
        {
          "output_type": "execute_result",
          "data": {
            "text/plain": [
              "tensor([[-2.0000,  1.0000],\n",
              "        [ 1.5000, -0.5000]])"
            ]
          },
          "metadata": {},
          "execution_count": 70
        }
      ],
      "source": [
        "# y의 역행렬(inverse)\n",
        "y.inverse()"
      ]
    },
    {
      "cell_type": "code",
      "execution_count": 71,
      "metadata": {
        "colab": {
          "base_uri": "https://localhost:8080/"
        },
        "id": "zcwMXNsxl4Yb",
        "outputId": "cde98f95-9f1c-412c-96c6-3797d37e17ac"
      },
      "outputs": [
        {
          "output_type": "execute_result",
          "data": {
            "text/plain": [
              "torch.Size([3, 3, 3])"
            ]
          },
          "metadata": {},
          "execution_count": 71
        }
      ],
      "source": [
        "# 텐서의 배치 행렬곱\n",
        "x1 = torch.FloatTensor(3,3,2)\n",
        "x2 = torch.FloatTensor(3,2,3)\n",
        "\n",
        "torch.bmm(x1,x2).size()"
      ]
    },
    {
      "cell_type": "code",
      "execution_count": 72,
      "metadata": {
        "colab": {
          "base_uri": "https://localhost:8080/"
        },
        "id": "VS8NG295l4Yb",
        "outputId": "78651082-952e-4234-ec23-eb629bad9990"
      },
      "outputs": [
        {
          "output_type": "execute_result",
          "data": {
            "text/plain": [
              "tensor([[[7.2648e-34, 0.0000e+00],\n",
              "         [3.0832e-31, 4.3650e-41],\n",
              "         [8.9683e-44, 0.0000e+00]],\n",
              "\n",
              "        [[1.7937e-43, 0.0000e+00],\n",
              "         [4.8455e-41, 0.0000e+00],\n",
              "         [1.0930e-43, 0.0000e+00]],\n",
              "\n",
              "        [[0.0000e+00, 0.0000e+00],\n",
              "         [0.0000e+00, 0.0000e+00],\n",
              "         [0.0000e+00, 0.0000e+00]]])"
            ]
          },
          "metadata": {},
          "execution_count": 72
        }
      ],
      "source": [
        "x1"
      ]
    },
    {
      "cell_type": "code",
      "execution_count": 73,
      "metadata": {
        "colab": {
          "base_uri": "https://localhost:8080/"
        },
        "id": "ujjGyuMWl4Yb",
        "outputId": "865790f3-0ad5-49c0-ac2e-7fa026fcd73e"
      },
      "outputs": [
        {
          "output_type": "execute_result",
          "data": {
            "text/plain": [
              "tensor([[[7.2648e-34, 1.7937e-43, 0.0000e+00],\n",
              "         [3.0832e-31, 4.8455e-41, 0.0000e+00],\n",
              "         [8.9683e-44, 1.0930e-43, 0.0000e+00]],\n",
              "\n",
              "        [[0.0000e+00, 0.0000e+00, 0.0000e+00],\n",
              "         [4.3650e-41, 0.0000e+00, 0.0000e+00],\n",
              "         [0.0000e+00, 0.0000e+00, 0.0000e+00]]])"
            ]
          },
          "metadata": {},
          "execution_count": 73
        }
      ],
      "source": [
        "# 텐서의 전치\n",
        "x1.transpose(0,2)"
      ]
    },
    {
      "cell_type": "code",
      "execution_count": 75,
      "metadata": {
        "colab": {
          "base_uri": "https://localhost:8080/"
        },
        "id": "u4kg8G4Dl4Yc",
        "outputId": "ab24b51a-eec9-433e-bd1a-ab6691e05cea"
      },
      "outputs": [
        {
          "output_type": "stream",
          "name": "stdout",
          "text": [
            "Eigenvalues:\n",
            " tensor([3.+0.j, 2.+0.j])\n",
            "Eigenvectors:\n",
            " tensor([[0.8944+0.j, 0.7071+0.j],\n",
            "        [0.4472+0.j, 0.7071+0.j]])\n"
          ]
        }
      ],
      "source": [
        "\n",
        "x = torch.tensor([[4.0, -2.0],\n",
        "                  [1.0,  1.0]])\n",
        "\n",
        "# Compute eigenvalues and eigenvectors\n",
        "eigenvalues, eigenvectors = torch.linalg.eig(x)\n",
        "\n",
        "print(\"Eigenvalues:\\n\", eigenvalues)\n",
        "print(\"Eigenvectors:\\n\", eigenvectors)\n"
      ]
    },
    {
      "cell_type": "code",
      "execution_count": 76,
      "metadata": {
        "colab": {
          "base_uri": "https://localhost:8080/"
        },
        "id": "1BRrjyzIl4Yc",
        "outputId": "03384b1b-27df-4545-ed0e-57d7b2a041bb"
      },
      "outputs": [
        {
          "output_type": "stream",
          "name": "stdout",
          "text": [
            "Q : tensor([[-0.9701, -0.2425],\n",
            "        [-0.2425,  0.9701]])\n",
            "R : tensor([[-4.1231,  1.6977],\n",
            "        [ 0.0000,  1.4552]])\n"
          ]
        },
        {
          "output_type": "stream",
          "name": "stderr",
          "text": [
            "<ipython-input-76-9f22904b9cde>:2: UserWarning: torch.qr is deprecated in favor of torch.linalg.qr and will be removed in a future PyTorch release.\n",
            "The boolean parameter 'some' has been replaced with a string parameter 'mode'.\n",
            "Q, R = torch.qr(A, some)\n",
            "should be replaced with\n",
            "Q, R = torch.linalg.qr(A, 'reduced' if some else 'complete') (Triggered internally at ../aten/src/ATen/native/BatchLinearAlgebra.cpp:2422.)\n",
            "  Q,R = torch.qr(x)\n"
          ]
        }
      ],
      "source": [
        "#행렬의 QR factorization\n",
        "Q,R = torch.qr(x)\n",
        "print(\"Q :\", Q)\n",
        "print(\"R :\", R)"
      ]
    },
    {
      "cell_type": "code",
      "execution_count": 77,
      "metadata": {
        "colab": {
          "base_uri": "https://localhost:8080/"
        },
        "id": "WAzT8DSal4Yc",
        "outputId": "60f3e49f-8e5f-4e32-fd34-e03cde827810"
      },
      "outputs": [
        {
          "output_type": "stream",
          "name": "stdout",
          "text": [
            "S : tensor([[-0.9940, -0.1091],\n",
            "        [-0.1091,  0.9940]])\n",
            "V : tensor([4.4966, 1.3343])\n",
            "D : tensor([[-0.9085,  0.4179],\n",
            "        [ 0.4179,  0.9085]])\n"
          ]
        }
      ],
      "source": [
        "#행렬의 SVD factorization\n",
        "S,V,D = torch.svd(x)\n",
        "print(\"S :\", S)\n",
        "print(\"V :\", V)\n",
        "print(\"D :\", D)"
      ]
    },
    {
      "cell_type": "code",
      "execution_count": 77,
      "metadata": {
        "id": "pAT3jnmlK8lH"
      },
      "outputs": [],
      "source": []
    }
  ],
  "metadata": {
    "accelerator": "GPU",
    "colab": {
      "provenance": []
    },
    "gpuClass": "standard",
    "kernelspec": {
      "display_name": "Python 3",
      "name": "python3"
    },
    "language_info": {
      "name": "python"
    }
  },
  "nbformat": 4,
  "nbformat_minor": 0
}